{
 "cells": [
  {
   "cell_type": "markdown",
   "metadata": {},
   "source": [
    "#                                                Microtask 1\n",
    "\n",
    "\n",
    "#### Produce a listing of the number of new committers per month, and the number of commits for each of them, as a table and as a CSV file. Use the GrimoireLab enriched index for git.\n"
   ]
  },
  {
   "cell_type": "code",
   "execution_count": 5,
   "metadata": {},
   "outputs": [],
   "source": [
    "# importing the neccesary libraries\n",
    "\n",
    "from datetime import datetime\n",
    "from pprint import pprint\n",
    "from elasticsearch_dsl import Search\n",
    "\n",
    "import elasticsearch as ES\n",
    "import elasticsearch_dsl\n",
    "import subprocess\n",
    "import calendar\n",
    "import pandas as pd"
   ]
  },
  {
   "cell_type": "markdown",
   "metadata": {},
   "source": [
    "#### Configuring ElasticSearch URL, Repository name and indices name"
   ]
  },
  {
   "cell_type": "code",
   "execution_count": 8,
   "metadata": {},
   "outputs": [],
   "source": [
    "# Url for the git repo to analyze\n",
    "repo_url = \"http://github.com/grimoirelab/perceval.git\"\n",
    "\n",
    "#url at which Elasticsearch must be running\n",
    "es_url = \"http://localhost:9200\"\n",
    "\n",
    "# Directory for letting Perceval clone the git repo\n",
    "raw_index = \"commits_raw\"\n",
    "enriched_index = \"commits\"\n",
    "\n",
    "# ElasticSearch instance (url)\n",
    "es = ES.Elasticsearch([es_url])"
   ]
  },
  {
   "cell_type": "markdown",
   "metadata": {},
   "source": [
    "#### Before retriving data from git repo, first we need to make sure any index of same name doesn't already exits and delete them if they exist"
   ]
  },
  {
   "cell_type": "code",
   "execution_count": 9,
   "metadata": {},
   "outputs": [],
   "source": [
    "\n",
    "if(es.indices.exists(raw_index)):\n",
    "    es.indices.delete(raw_index)\n",
    "    \n",
    "if(es.indices.exists(enriched_index)):\n",
    "    es.indices.delete(enriched_index)"
   ]
  },
  {
   "cell_type": "markdown",
   "metadata": {},
   "source": [
    "#### Retrieving data "
   ]
  },
  {
   "cell_type": "code",
   "execution_count": 10,
   "metadata": {},
   "outputs": [
    {
     "data": {
      "text/plain": [
       "CompletedProcess(args=['p2o.py', '--enrich', '--index', 'commits_raw', '--index-enrich', 'commits', '-e', 'http://localhost:9200', '--no_inc', '--debug', 'git', 'http://github.com/grimoirelab/perceval.git'], returncode=0)"
      ]
     },
     "execution_count": 10,
     "metadata": {},
     "output_type": "execute_result"
    }
   ],
   "source": [
    "# We will be using p2o.py to retrive data,upload raw_data, enrich data and \n",
    "# upload enriched indices to elasticsearch with the help of python subprocess\n",
    "\n",
    "subprocess.run(['p2o.py', '--enrich', '--index', raw_index , '--index-enrich', enriched_index, \n",
    " '-e',es_url, '--no_inc', '--debug', 'git', repo_url ])"
   ]
  },
  {
   "cell_type": "code",
   "execution_count": 11,
   "metadata": {},
   "outputs": [
    {
     "name": "stdout",
     "output_type": "stream",
     "text": [
      "Total number of commits on this repository 1016\n"
     ]
    }
   ],
   "source": [
    "# We will search in enriched index using Elasticsearch's built in search function\n",
    "\n",
    "response=es.search(index=enriched_index)\n",
    "total_commits = (response['hits']['total'])\n",
    "response = es.search(index=enriched_index, body={\"size\":total_commits})\n",
    "commits_list = []\n",
    "for x in range(total_commits):\n",
    "    commits_list.append(response['hits']['hits'][x]['_source'])\n",
    "    \n",
    "print (\"Total number of commits on this repository\", total_commits)"
   ]
  },
  {
   "cell_type": "code",
   "execution_count": 12,
   "metadata": {},
   "outputs": [],
   "source": [
    "# output 1 element to get the idea of structure of data\n",
    "pprint (commits_list[0])"
   ]
  },
  {
   "cell_type": "code",
   "execution_count": 24,
   "metadata": {},
   "outputs": [
    {
     "name": "stdout",
     "output_type": "stream",
     "text": [
      "{'Name': 'Santiago Dueñas', 'commit_count': 708, 'first_commit_Date': '15-Nov'}\n"
     ]
    }
   ],
   "source": [
    "# We will segregate out useful data from the complete search output.\n",
    "# We will store first commit's date and total commits for each different user.\n",
    "\n",
    "commiters = []\n",
    "\n",
    "def check_commiter(name):\n",
    "    for x in range(len(commiters)):\n",
    "        if(commiters[x]['Name']==name):\n",
    "            return x\n",
    "    return -1\n",
    "    \n",
    "for x in range(total_commits):\n",
    "    author_name=commits_list[x]['author_name']\n",
    "    commit_date=commits_list[x]['commit_date']\n",
    "    commit_date = pd.tslib.Timestamp(commit_date)\n",
    "    #print (author_name)\n",
    "    tmp=check_commiter(author_name) \n",
    "    if( tmp == -1):\n",
    "        commiters.append({'Name':author_name , 'first_commit_Date': commit_date.strftime('%y-%b') ,'commit_count':1})\n",
    "    else:\n",
    "        commiters[tmp]['commit_count']=commiters[tmp]['commit_count']+1\n",
    "pprint (commiters[0])"
   ]
  },
  {
   "cell_type": "code",
   "execution_count": 19,
   "metadata": {},
   "outputs": [
    {
     "name": "stdout",
     "output_type": "stream",
     "text": [
      "['15-Nov', '15-Dec', '16-Jan', '16-Feb', '16-Mar', '16-Apr', '16-May', '16-Jun', '16-Jul', '16-Aug', '16-Sep', '16-Oct', '16-Nov', '16-Dec', '17-Jan', '17-Feb', '17-Mar', '17-Apr', '17-May', '17-Jun', '17-Jul', '17-Aug', '17-Sep', '17-Oct', '17-Nov', '17-Dec', '18-Jan', '18-Feb']\n"
     ]
    }
   ],
   "source": [
    "# We will calculate month of the very first and the latest commit\n",
    "def getmonthname(date):\n",
    "    a=date.split('T')\n",
    "    return ((a[0]))\n",
    "    \n",
    "first_commit_date=commits_list[0]['commit_date']\n",
    "last_commit_date=commits_list[total_commits-1]['commit_date']\n",
    "first_commit_month = getmonthname(first_commit_date)\n",
    "last_commit_month = getmonthname(last_commit_date)\n",
    "\n",
    "# We will construct an array corresponding to each month in the range\n",
    "\n",
    "daterange = pd.date_range(first_commit_month,last_commit_month , freq='1M') \n",
    "\n",
    "daterange = [d.strftime('%y-%b') for d in daterange]\n",
    "\n",
    "print (daterange)"
   ]
  },
  {
   "cell_type": "markdown",
   "metadata": {},
   "source": [
    "#### Producing List and dataframe for Author's total commits and New Commiters each month."
   ]
  },
  {
   "cell_type": "code",
   "execution_count": 20,
   "metadata": {},
   "outputs": [],
   "source": [
    "# producing a list containg total commits of each user\n",
    "authors_commit_count={}\n",
    "total=0\n",
    "for x in commiters:\n",
    "    authors_commit_count[x['Name']]=x['commit_count']\n",
    "    total+=x['commit_count']\n",
    "    \n",
    "#converting it into dataframe using pandas\n",
    "df = pd.DataFrame(list(authors_commit_count.items()), columns=[\"Author\",\"Total commits\"])"
   ]
  },
  {
   "cell_type": "code",
   "execution_count": 21,
   "metadata": {},
   "outputs": [
    {
     "data": {
      "text/html": [
       "<div>\n",
       "<table border=\"1\" class=\"dataframe\">\n",
       "  <thead>\n",
       "    <tr style=\"text-align: right;\">\n",
       "      <th></th>\n",
       "      <th>Author</th>\n",
       "      <th>Total commits</th>\n",
       "    </tr>\n",
       "  </thead>\n",
       "  <tbody>\n",
       "    <tr>\n",
       "      <th>0</th>\n",
       "      <td>Valerio Cosentino</td>\n",
       "      <td>169</td>\n",
       "    </tr>\n",
       "    <tr>\n",
       "      <th>1</th>\n",
       "      <td>Miguel Ángel Fernández</td>\n",
       "      <td>3</td>\n",
       "    </tr>\n",
       "    <tr>\n",
       "      <th>2</th>\n",
       "      <td>quan</td>\n",
       "      <td>5</td>\n",
       "    </tr>\n",
       "    <tr>\n",
       "      <th>3</th>\n",
       "      <td>J. Manrique Lopez de la Fuente</td>\n",
       "      <td>1</td>\n",
       "    </tr>\n",
       "    <tr>\n",
       "      <th>4</th>\n",
       "      <td>Alvaro del Castillo</td>\n",
       "      <td>45</td>\n",
       "    </tr>\n",
       "    <tr>\n",
       "      <th>5</th>\n",
       "      <td>David Pose Fernández</td>\n",
       "      <td>1</td>\n",
       "    </tr>\n",
       "    <tr>\n",
       "      <th>6</th>\n",
       "      <td>valerio</td>\n",
       "      <td>2</td>\n",
       "    </tr>\n",
       "    <tr>\n",
       "      <th>7</th>\n",
       "      <td>camillem</td>\n",
       "      <td>2</td>\n",
       "    </tr>\n",
       "    <tr>\n",
       "      <th>8</th>\n",
       "      <td>David Esler</td>\n",
       "      <td>1</td>\n",
       "    </tr>\n",
       "    <tr>\n",
       "      <th>9</th>\n",
       "      <td>valerio cosentino</td>\n",
       "      <td>6</td>\n",
       "    </tr>\n",
       "    <tr>\n",
       "      <th>10</th>\n",
       "      <td>Israel Herraiz</td>\n",
       "      <td>1</td>\n",
       "    </tr>\n",
       "    <tr>\n",
       "      <th>11</th>\n",
       "      <td>Luis Cañas Díaz</td>\n",
       "      <td>1</td>\n",
       "    </tr>\n",
       "    <tr>\n",
       "      <th>12</th>\n",
       "      <td>Santiago Dueñas</td>\n",
       "      <td>708</td>\n",
       "    </tr>\n",
       "    <tr>\n",
       "      <th>13</th>\n",
       "      <td>david</td>\n",
       "      <td>1</td>\n",
       "    </tr>\n",
       "    <tr>\n",
       "      <th>14</th>\n",
       "      <td>Alberto Martín</td>\n",
       "      <td>51</td>\n",
       "    </tr>\n",
       "    <tr>\n",
       "      <th>15</th>\n",
       "      <td>Jesus M. Gonzalez-Barahona</td>\n",
       "      <td>18</td>\n",
       "    </tr>\n",
       "    <tr>\n",
       "      <th>16</th>\n",
       "      <td>Stephan Barth</td>\n",
       "      <td>1</td>\n",
       "    </tr>\n",
       "  </tbody>\n",
       "</table>\n",
       "</div>"
      ],
      "text/plain": [
       "                            Author  Total commits\n",
       "0                Valerio Cosentino            169\n",
       "1           Miguel Ángel Fernández              3\n",
       "2                             quan              5\n",
       "3   J. Manrique Lopez de la Fuente              1\n",
       "4              Alvaro del Castillo             45\n",
       "5             David Pose Fernández              1\n",
       "6                          valerio              2\n",
       "7                         camillem              2\n",
       "8                      David Esler              1\n",
       "9                valerio cosentino              6\n",
       "10                  Israel Herraiz              1\n",
       "11                 Luis Cañas Díaz              1\n",
       "12                 Santiago Dueñas            708\n",
       "13                           david              1\n",
       "14                  Alberto Martín             51\n",
       "15      Jesus M. Gonzalez-Barahona             18\n",
       "16                   Stephan Barth              1"
      ]
     },
     "execution_count": 21,
     "metadata": {},
     "output_type": "execute_result"
    }
   ],
   "source": [
    "#producing csv file of the dataframe contaning every authors total number of commits\n",
    "df.to_csv('authors_commits_count.csv', index=False ,sep=',')\n",
    "df"
   ]
  },
  {
   "cell_type": "code",
   "execution_count": 22,
   "metadata": {},
   "outputs": [],
   "source": [
    "#Counting new commiters for each month in form of a dataframe\n",
    "\n",
    "new_commiters_per_month = {}\n",
    "for x in range(len(daterange)):\n",
    "    new_commiters_per_month[daterange[x]]=0\n",
    "for x in commiters:\n",
    "    new_commiters_per_month[x['first_commit_Date']] +=1\n",
    "df = pd.DataFrame(list(new_commiters_per_month.items()), columns=[\"Year-Month\",\"Number of New Commiters\"])"
   ]
  },
  {
   "cell_type": "code",
   "execution_count": 23,
   "metadata": {},
   "outputs": [
    {
     "data": {
      "text/html": [
       "<div>\n",
       "<table border=\"1\" class=\"dataframe\">\n",
       "  <thead>\n",
       "    <tr style=\"text-align: right;\">\n",
       "      <th></th>\n",
       "      <th>Year-Month</th>\n",
       "      <th>Number of New Commiters</th>\n",
       "    </tr>\n",
       "  </thead>\n",
       "  <tbody>\n",
       "    <tr>\n",
       "      <th>0</th>\n",
       "      <td>16-Jan</td>\n",
       "      <td>2</td>\n",
       "    </tr>\n",
       "    <tr>\n",
       "      <th>1</th>\n",
       "      <td>17-Sep</td>\n",
       "      <td>1</td>\n",
       "    </tr>\n",
       "    <tr>\n",
       "      <th>2</th>\n",
       "      <td>17-Jul</td>\n",
       "      <td>0</td>\n",
       "    </tr>\n",
       "    <tr>\n",
       "      <th>3</th>\n",
       "      <td>17-Jan</td>\n",
       "      <td>1</td>\n",
       "    </tr>\n",
       "    <tr>\n",
       "      <th>4</th>\n",
       "      <td>16-May</td>\n",
       "      <td>0</td>\n",
       "    </tr>\n",
       "    <tr>\n",
       "      <th>5</th>\n",
       "      <td>16-Jul</td>\n",
       "      <td>1</td>\n",
       "    </tr>\n",
       "    <tr>\n",
       "      <th>6</th>\n",
       "      <td>18-Jan</td>\n",
       "      <td>1</td>\n",
       "    </tr>\n",
       "    <tr>\n",
       "      <th>7</th>\n",
       "      <td>17-Nov</td>\n",
       "      <td>2</td>\n",
       "    </tr>\n",
       "    <tr>\n",
       "      <th>8</th>\n",
       "      <td>16-Sep</td>\n",
       "      <td>1</td>\n",
       "    </tr>\n",
       "    <tr>\n",
       "      <th>9</th>\n",
       "      <td>16-Feb</td>\n",
       "      <td>1</td>\n",
       "    </tr>\n",
       "    <tr>\n",
       "      <th>10</th>\n",
       "      <td>16-Nov</td>\n",
       "      <td>0</td>\n",
       "    </tr>\n",
       "    <tr>\n",
       "      <th>11</th>\n",
       "      <td>17-Aug</td>\n",
       "      <td>0</td>\n",
       "    </tr>\n",
       "    <tr>\n",
       "      <th>12</th>\n",
       "      <td>17-Mar</td>\n",
       "      <td>0</td>\n",
       "    </tr>\n",
       "    <tr>\n",
       "      <th>13</th>\n",
       "      <td>16-Apr</td>\n",
       "      <td>0</td>\n",
       "    </tr>\n",
       "    <tr>\n",
       "      <th>14</th>\n",
       "      <td>15-Nov</td>\n",
       "      <td>1</td>\n",
       "    </tr>\n",
       "    <tr>\n",
       "      <th>15</th>\n",
       "      <td>16-Aug</td>\n",
       "      <td>0</td>\n",
       "    </tr>\n",
       "    <tr>\n",
       "      <th>16</th>\n",
       "      <td>16-Jun</td>\n",
       "      <td>1</td>\n",
       "    </tr>\n",
       "    <tr>\n",
       "      <th>17</th>\n",
       "      <td>16-Oct</td>\n",
       "      <td>0</td>\n",
       "    </tr>\n",
       "    <tr>\n",
       "      <th>18</th>\n",
       "      <td>17-Dec</td>\n",
       "      <td>1</td>\n",
       "    </tr>\n",
       "    <tr>\n",
       "      <th>19</th>\n",
       "      <td>16-Dec</td>\n",
       "      <td>0</td>\n",
       "    </tr>\n",
       "    <tr>\n",
       "      <th>20</th>\n",
       "      <td>17-Feb</td>\n",
       "      <td>0</td>\n",
       "    </tr>\n",
       "    <tr>\n",
       "      <th>21</th>\n",
       "      <td>17-Oct</td>\n",
       "      <td>2</td>\n",
       "    </tr>\n",
       "    <tr>\n",
       "      <th>22</th>\n",
       "      <td>15-Dec</td>\n",
       "      <td>0</td>\n",
       "    </tr>\n",
       "    <tr>\n",
       "      <th>23</th>\n",
       "      <td>16-Mar</td>\n",
       "      <td>1</td>\n",
       "    </tr>\n",
       "    <tr>\n",
       "      <th>24</th>\n",
       "      <td>17-Apr</td>\n",
       "      <td>0</td>\n",
       "    </tr>\n",
       "    <tr>\n",
       "      <th>25</th>\n",
       "      <td>17-May</td>\n",
       "      <td>0</td>\n",
       "    </tr>\n",
       "    <tr>\n",
       "      <th>26</th>\n",
       "      <td>18-Feb</td>\n",
       "      <td>1</td>\n",
       "    </tr>\n",
       "    <tr>\n",
       "      <th>27</th>\n",
       "      <td>17-Jun</td>\n",
       "      <td>0</td>\n",
       "    </tr>\n",
       "  </tbody>\n",
       "</table>\n",
       "</div>"
      ],
      "text/plain": [
       "   Year-Month  Number of New Commiters\n",
       "0      16-Jan                        2\n",
       "1      17-Sep                        1\n",
       "2      17-Jul                        0\n",
       "3      17-Jan                        1\n",
       "4      16-May                        0\n",
       "5      16-Jul                        1\n",
       "6      18-Jan                        1\n",
       "7      17-Nov                        2\n",
       "8      16-Sep                        1\n",
       "9      16-Feb                        1\n",
       "10     16-Nov                        0\n",
       "11     17-Aug                        0\n",
       "12     17-Mar                        0\n",
       "13     16-Apr                        0\n",
       "14     15-Nov                        1\n",
       "15     16-Aug                        0\n",
       "16     16-Jun                        1\n",
       "17     16-Oct                        0\n",
       "18     17-Dec                        1\n",
       "19     16-Dec                        0\n",
       "20     17-Feb                        0\n",
       "21     17-Oct                        2\n",
       "22     15-Dec                        0\n",
       "23     16-Mar                        1\n",
       "24     17-Apr                        0\n",
       "25     17-May                        0\n",
       "26     18-Feb                        1\n",
       "27     17-Jun                        0"
      ]
     },
     "execution_count": 23,
     "metadata": {},
     "output_type": "execute_result"
    }
   ],
   "source": [
    "df.to_csv('new_commiters_permonth.csv', index=False ,sep=',')\n",
    "df"
   ]
  },
  {
   "cell_type": "code",
   "execution_count": null,
   "metadata": {},
   "outputs": [],
   "source": []
  }
 ],
 "metadata": {
  "kernelspec": {
   "display_name": "Python 3",
   "language": "python",
   "name": "python3"
  },
  "language_info": {
   "codemirror_mode": {
    "name": "ipython",
    "version": 3
   },
   "file_extension": ".py",
   "mimetype": "text/x-python",
   "name": "python",
   "nbconvert_exporter": "python",
   "pygments_lexer": "ipython3",
   "version": "3.5.4rc1"
  }
 },
 "nbformat": 4,
 "nbformat_minor": 2
}
