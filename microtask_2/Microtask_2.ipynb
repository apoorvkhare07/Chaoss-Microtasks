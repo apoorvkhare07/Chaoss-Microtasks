{
 "cells": [
  {
   "cell_type": "markdown",
   "metadata": {},
   "source": [
    "#                                             Mictotask 2\n",
    "\n",
    "####  Produce a chart showing the distribution of time-to-close (using the corresponding field in the GrimoireLab enriched index for GitHub issues) for issues already closed, and opened during the last six months."
   ]
  },
  {
   "cell_type": "code",
   "execution_count": 1,
   "metadata": {},
   "outputs": [],
   "source": [
    "from datetime import datetime\n",
    "from pprint import pprint\n",
    "from elasticsearch_dsl import Search\n",
    "\n",
    "import elasticsearch as ES\n",
    "import subprocess\n",
    "import calendar\n",
    "import pandas as pd\n",
    "import matplotlib.pyplot as plt\n",
    "import matplotlib"
   ]
  },
  {
   "cell_type": "markdown",
   "metadata": {},
   "source": [
    "#### Configuring Repository name, Organisation's name, elasticsearch url, indices name and github access token.\n"
   ]
  },
  {
   "cell_type": "code",
   "execution_count": 2,
   "metadata": {},
   "outputs": [],
   "source": [
    "# Url for the git repo to analyze\n",
    "org_name = \"grimoirelab\"\n",
    "repo_name = \"perceval\"\n",
    "#url at which Elasticsearch must be running\n",
    "es_url = \"http://localhost:9200\"\n",
    "\n",
    "# Directory for letting Perceval clone the git repo\n",
    "raw_index = \"github_raw\"\n",
    "enriched_index = \"github\"\n",
    "\n",
    "# ElasticSearch instance (url)\n",
    "es = ES.Elasticsearch([es_url])\n",
    "\n",
    "#verification token to avoid problems regarding unauthenticated access to the GitHub API\n",
    "token = '36b6d5dd8be1dfb2f45ae6b903b1f83263df8c86'"
   ]
  },
  {
   "cell_type": "markdown",
   "metadata": {},
   "source": [
    "#### Running p2o.py to retrieve data from github repository, enriching it and uploading it to elasticsearch."
   ]
  },
  {
   "cell_type": "code",
   "execution_count": 4,
   "metadata": {},
   "outputs": [
    {
     "data": {
      "text/plain": [
       "CompletedProcess(args=['p2o.py', '--enrich', '--index', 'github_raw', '--index-enrich', 'github', '-e', 'http://localhost:9200', '--no_inc', '--debug', 'github', 'grimoirelab', 'perceval', '-t', '36b6d5dd8be1dfb2f45ae6b903b1f83263df8c86', '--sleep-for-rate'], returncode=0)"
      ]
     },
     "execution_count": 4,
     "metadata": {},
     "output_type": "execute_result"
    }
   ],
   "source": [
    "#This takes sometime \n",
    "subprocess.run(['p2o.py', '--enrich', '--index', raw_index,\n",
    "      '--index-enrich', enriched_index, '-e', es_url,\n",
    "      '--no_inc', '--debug', 'github', org_name , repo_name,\n",
    "      '-t',  token, '--sleep-for-rate'])"
   ]
  },
  {
   "cell_type": "markdown",
   "metadata": {},
   "source": [
    "#### Analysing the enriched indices and storing the search result in a list .We'll output a single object so as to analyse different fields present.\n"
   ]
  },
  {
   "cell_type": "code",
   "execution_count": 6,
   "metadata": {},
   "outputs": [
    {
     "name": "stdout",
     "output_type": "stream",
     "text": [
      "{'assignee_email': None,\n",
      " 'assignee_geolocation': None,\n",
      " 'assignee_location': None,\n",
      " 'assignee_login': 'sduenas',\n",
      " 'assignee_name': 'Santiago Dueñas',\n",
      " 'assignee_org': None,\n",
      " 'author_name': 'Alvaro del Castillo',\n",
      " 'closed_at': '2016-01-04T01:32:26Z',\n",
      " 'created_at': '2015-12-04T17:48:34Z',\n",
      " 'github_repo': 'chaoss/grimoirelab-perceval',\n",
      " 'grimoire_creation_date': '2015-12-04T17:48:34+00:00',\n",
      " 'id': 120451821,\n",
      " 'id_in_repo': '2',\n",
      " 'is_github_issue': 1,\n",
      " 'item_type': 'pull request',\n",
      " 'labels': '',\n",
      " 'metadata__enriched_on': '2018-03-04T17:13:09.874694',\n",
      " 'metadata__gelk_backend_name': 'GitHubEnrich',\n",
      " 'metadata__gelk_version': '0.30.23',\n",
      " 'metadata__timestamp': '2018-03-04T01:36:36.425836+00:00',\n",
      " 'metadata__updated_on': '2016-01-21T14:01:54+00:00',\n",
      " 'offset': None,\n",
      " 'origin': 'https://github.com/grimoirelab/perceval',\n",
      " 'pull_request': True,\n",
      " 'repository': 'https://github.com/chaoss/grimoirelab-perceval',\n",
      " 'state': 'closed',\n",
      " 'tag': 'https://github.com/grimoirelab/perceval',\n",
      " 'time_open_days': 30.32,\n",
      " 'time_to_close_days': 30.32,\n",
      " 'title': '[github] Add github backend for perceval.',\n",
      " 'title_analyzed': '[github] Add github backend for perceval.',\n",
      " 'updated_at': '2016-01-21T14:01:54Z',\n",
      " 'url': 'https://github.com/chaoss/grimoirelab-perceval/pull/2',\n",
      " 'url_id': 'chaoss/grimoirelab-perceval/issues/2',\n",
      " 'user_domain': 'bitergia.com',\n",
      " 'user_email': 'acs@bitergia.com',\n",
      " 'user_geolocation': None,\n",
      " 'user_location': 'Getafe, Madrid, Spain',\n",
      " 'user_login': 'acs',\n",
      " 'user_name': 'Alvaro del Castillo',\n",
      " 'user_org': 'Bitergia',\n",
      " 'uuid': 'fc9da7fc60cd6406e882ef5a4d819ee2b30d7215'}\n"
     ]
    }
   ],
   "source": [
    "response=es.search(index=enriched_index)\n",
    "total_commits = (response['hits']['total'])\n",
    "response = es.search(index=enriched_index, body={\"size\":total_commits})\n",
    "t = []\n",
    "for x in range(total_commits):\n",
    "         t.append(response['hits']['hits'][x]['_source'])\n",
    "pprint (t[0])"
   ]
  },
  {
   "cell_type": "markdown",
   "metadata": {},
   "source": [
    "#### ElasticSearch_dsl for quering enriched indices. Sorting and filtering using elasticsearch_dsl inbuilt functions. And storing relevant fields in a dictionary. \n",
    "#### And if issue is still open specifying it."
   ]
  },
  {
   "cell_type": "code",
   "execution_count": 8,
   "metadata": {},
   "outputs": [
    {
     "name": "stdout",
     "output_type": "stream",
     "text": [
      "{'closed_at': 'Issue still open',\n",
      " 'created_at': '2018-03-02T18:22:45Z',\n",
      " 'issue_id': 301859388,\n",
      " 'time_open_days': 1.95,\n",
      " 'time_to_close_days': 'NA'}\n"
     ]
    }
   ],
   "source": [
    "request=Search(using=es ,index=enriched_index)\n",
    "repo_data=[]\n",
    "\n",
    "request = request.sort({'created_at':{'order':'desc'}})\n",
    "request = request.filter(\"terms\", item_type = ['issue'])\n",
    "request = request.filter('range', created_at ={'gte': 'now-6M'})\n",
    "request = request.source(['id', 'closed_at', 'created_at','time_open_days','time_to_close_days']) \n",
    "request = request[0:100]\n",
    "s = request.execute()\n",
    "\n",
    "for x in s :\n",
    "    if(x.time_to_close_days == None):\n",
    "        x.time_to_close_days = 'NA'\n",
    "        x.closed_at = 'Issue still open'\n",
    "    repo_data.append({'issue_id':x.id ,'time_open_days':x.time_open_days,'time_to_close_days':x.time_to_close_days,\n",
    "                     'created_at':x.created_at,'closed_at':x.closed_at})\n",
    "pprint ((repo_data[0])) "
   ]
  },
  {
   "cell_type": "markdown",
   "metadata": {},
   "source": [
    "#### Producing dataframe of the stored data using pandas. And visualizing 10 features in form of a table."
   ]
  },
  {
   "cell_type": "code",
   "execution_count": 9,
   "metadata": {},
   "outputs": [
    {
     "data": {
      "text/html": [
       "<div>\n",
       "<table border=\"1\" class=\"dataframe\">\n",
       "  <thead>\n",
       "    <tr style=\"text-align: right;\">\n",
       "      <th></th>\n",
       "      <th>issue_id</th>\n",
       "      <th>time_open_days</th>\n",
       "      <th>time_to_close_days</th>\n",
       "      <th>created_at</th>\n",
       "      <th>closed_at</th>\n",
       "    </tr>\n",
       "  </thead>\n",
       "  <tbody>\n",
       "    <tr>\n",
       "      <th>0</th>\n",
       "      <td>301859388</td>\n",
       "      <td>1.95</td>\n",
       "      <td>NA</td>\n",
       "      <td>2018-03-02T18:22:45Z</td>\n",
       "      <td>Issue still open</td>\n",
       "    </tr>\n",
       "    <tr>\n",
       "      <th>1</th>\n",
       "      <td>301338299</td>\n",
       "      <td>3.31</td>\n",
       "      <td>NA</td>\n",
       "      <td>2018-03-01T09:45:12Z</td>\n",
       "      <td>Issue still open</td>\n",
       "    </tr>\n",
       "    <tr>\n",
       "      <th>2</th>\n",
       "      <td>298853432</td>\n",
       "      <td>11.46</td>\n",
       "      <td>NA</td>\n",
       "      <td>2018-02-21T06:13:04Z</td>\n",
       "      <td>Issue still open</td>\n",
       "    </tr>\n",
       "    <tr>\n",
       "      <th>3</th>\n",
       "      <td>298235932</td>\n",
       "      <td>0.53</td>\n",
       "      <td>0.53</td>\n",
       "      <td>2018-02-19T11:03:51Z</td>\n",
       "      <td>2018-02-19T23:48:50Z</td>\n",
       "    </tr>\n",
       "    <tr>\n",
       "      <th>4</th>\n",
       "      <td>297990762</td>\n",
       "      <td>2.05</td>\n",
       "      <td>2.05</td>\n",
       "      <td>2018-02-17T08:56:30Z</td>\n",
       "      <td>2018-02-19T10:02:53Z</td>\n",
       "    </tr>\n",
       "    <tr>\n",
       "      <th>5</th>\n",
       "      <td>297364923</td>\n",
       "      <td>17.36</td>\n",
       "      <td>NA</td>\n",
       "      <td>2018-02-15T08:37:18Z</td>\n",
       "      <td>Issue still open</td>\n",
       "    </tr>\n",
       "    <tr>\n",
       "      <th>6</th>\n",
       "      <td>297018141</td>\n",
       "      <td>18.34</td>\n",
       "      <td>NA</td>\n",
       "      <td>2018-02-14T08:57:59Z</td>\n",
       "      <td>Issue still open</td>\n",
       "    </tr>\n",
       "    <tr>\n",
       "      <th>7</th>\n",
       "      <td>295929758</td>\n",
       "      <td>23.03</td>\n",
       "      <td>NA</td>\n",
       "      <td>2018-02-09T16:29:36Z</td>\n",
       "      <td>Issue still open</td>\n",
       "    </tr>\n",
       "    <tr>\n",
       "      <th>8</th>\n",
       "      <td>295910162</td>\n",
       "      <td>23.07</td>\n",
       "      <td>NA</td>\n",
       "      <td>2018-02-09T15:33:40Z</td>\n",
       "      <td>Issue still open</td>\n",
       "    </tr>\n",
       "    <tr>\n",
       "      <th>9</th>\n",
       "      <td>291892484</td>\n",
       "      <td>3.14</td>\n",
       "      <td>3.14</td>\n",
       "      <td>2018-01-26T12:51:35Z</td>\n",
       "      <td>2018-01-29T16:15:00Z</td>\n",
       "    </tr>\n",
       "  </tbody>\n",
       "</table>\n",
       "</div>"
      ],
      "text/plain": [
       "    issue_id  time_open_days time_to_close_days            created_at  \\\n",
       "0  301859388            1.95                 NA  2018-03-02T18:22:45Z   \n",
       "1  301338299            3.31                 NA  2018-03-01T09:45:12Z   \n",
       "2  298853432           11.46                 NA  2018-02-21T06:13:04Z   \n",
       "3  298235932            0.53               0.53  2018-02-19T11:03:51Z   \n",
       "4  297990762            2.05               2.05  2018-02-17T08:56:30Z   \n",
       "5  297364923           17.36                 NA  2018-02-15T08:37:18Z   \n",
       "6  297018141           18.34                 NA  2018-02-14T08:57:59Z   \n",
       "7  295929758           23.03                 NA  2018-02-09T16:29:36Z   \n",
       "8  295910162           23.07                 NA  2018-02-09T15:33:40Z   \n",
       "9  291892484            3.14               3.14  2018-01-26T12:51:35Z   \n",
       "\n",
       "              closed_at  \n",
       "0      Issue still open  \n",
       "1      Issue still open  \n",
       "2      Issue still open  \n",
       "3  2018-02-19T23:48:50Z  \n",
       "4  2018-02-19T10:02:53Z  \n",
       "5      Issue still open  \n",
       "6      Issue still open  \n",
       "7      Issue still open  \n",
       "8      Issue still open  \n",
       "9  2018-01-29T16:15:00Z  "
      ]
     },
     "execution_count": 9,
     "metadata": {},
     "output_type": "execute_result"
    }
   ],
   "source": [
    "df = pd.DataFrame(repo_data, columns=[\"issue_id\",\"time_open_days\",\"time_to_close_days\",\"created_at\",\"closed_at\"])\n",
    "df.head(10)"
   ]
  },
  {
   "cell_type": "markdown",
   "metadata": {},
   "source": [
    "#### Ploting bar chart using matplotlib."
   ]
  },
  {
   "cell_type": "code",
   "execution_count": 10,
   "metadata": {},
   "outputs": [
    {
     "data": {
      "image/png": "[encoded data removed]",
      "text/plain": [
       "<matplotlib.figure.Figure at 0x7fba4545b940>"
      ]
     },
     "metadata": {},
     "output_type": "display_data"
    }
   ],
   "source": [
    "import numpy as np\n",
    "\n",
    "# data to plot\n",
    "n = 20\n",
    "ids=[]\n",
    "close_days=[]\n",
    "open_days=[]\n",
    "for x in range(n):\n",
    "    ids.append(repo_data[x]['issue_id'])\n",
    "    if(repo_data[x]['time_to_close_days']=='NA'):\n",
    "        repo_data[x]['time_to_close_days']=0\n",
    "    close_days.append(repo_data[x]['time_open_days'])\n",
    "    open_days.append(repo_data[x]['time_to_close_days'])\n",
    "\n",
    " \n",
    "# create plot\n",
    "fig=plt.figure(figsize=(15,10))\n",
    "\n",
    "index = np.arange(n)\n",
    "bar_width = 0.2\n",
    "opacity = 0.8\n",
    "rects1 = plt.bar(index+ bar_width/2 , close_days, bar_width,\n",
    "                 alpha=opacity,\n",
    "                 color='blue',\n",
    "                 label='time_to_close_days')\n",
    " \n",
    "rects2 = plt.bar(index + bar_width +bar_width/2 , open_days, bar_width,\n",
    "                 alpha=opacity,\n",
    "                 color='orange',\n",
    "                 label='time_open_days')\n",
    "plt.xlabel('Issue Id',fontsize=12)\n",
    "plt.ylabel('Days',fontsize=12)\n",
    "plt.title('Issues in last 6 months',fontsize=12)\n",
    "plt.xticks(index + bar_width, ids,fontsize=8,rotation=45)\n",
    "plt.legend()\n",
    "\n",
    "plt.show()"
   ]
  },
  {
   "cell_type": "code",
   "execution_count": null,
   "metadata": {},
   "outputs": [],
   "source": []
  }
 ],
 "metadata": {
  "kernelspec": {
   "display_name": "Python 3",
   "language": "python",
   "name": "python3"
  },
  "language_info": {
   "codemirror_mode": {
    "name": "ipython",
    "version": 3
   },
   "file_extension": ".py",
   "mimetype": "text/x-python",
   "name": "python",
   "nbconvert_exporter": "python",
   "pygments_lexer": "ipython3",
   "version": "3.5.4rc1"
  }
 },
 "nbformat": 4,
 "nbformat_minor": 2
}
